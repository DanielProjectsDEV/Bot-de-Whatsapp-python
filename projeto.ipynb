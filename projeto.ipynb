{
 "cells": [
  {
   "cell_type": "code",
   "execution_count": null,
   "metadata": {},
   "outputs": [],
   "source": [
    "# Automação de encaminhamento de mensagens no Whatsapp\n",
    "# Usando a funcionalidade nativa do whatsapp de encaminhar mensagem\n",
    "# Encaminhar de 5 em 5 mensagens"
   ]
  },
  {
   "cell_type": "code",
   "execution_count": 1,
   "metadata": {},
   "outputs": [],
   "source": [
    "from selenium import webdriver\n",
    "from selenium.webdriver.chrome.service import  Service\n",
    "from webdriver_manager.chrome import ChromeDriverManager\n",
    "\n",
    "service = Service(ChromeDriverManager().install())\n",
    "nav = webdriver.Chrome(service=service)\n",
    "nav.get(\"https://web.whatsapp.com\")"
   ]
  },
  {
   "cell_type": "code",
   "execution_count": 11,
   "metadata": {},
   "outputs": [],
   "source": [
    "from selenium.webdriver.common.keys import Keys\n",
    "import pyperclip\n",
    "import time\n",
    "mensagem = \"\"\"Fala Galera! Toma no Cu Geral!\"\"\"\n",
    "\n",
    "lista_contatos = [\"Daniel Alves\", \"Estudos\"]\n",
    "\n",
    "#enviar a mensagem para Daniel Alves e depois encaminhar para outros contatos.\n",
    "\n",
    "#clicar na lupa\n",
    "nav.find_element('xpath', '//*[@id=\"side\"]/div[1]/div/div[2]/button/div[2]/span').click()\n",
    "#Digitatr o nome do contato Daniel Alves\n",
    "nav.find_element('xpath', '//*[@id=\"side\"]/div[1]/div/div[2]/div[2]/div/div[1]/p').send_keys(\"Daniel Alves\")\n",
    "#Dar Enter\n",
    "nav.find_element('xpath', '//*[@id=\"side\"]/div[1]/div/div[2]/div[2]/div/div[1]/p').send_keys(Keys.ENTER)\n",
    "#Aguardar alguns segundos antes de executar o proximo código.\n",
    "time.sleep(1)\n",
    "#escrever para Daniel Alves copinado(ctrl + c) a string da variavel mensagem e dando (Ctrl + v) na caixa dfe texto de mensagem.\n",
    "pyperclip.copy(mensagem)\n",
    "nav.find_element('xpath', '//*[@id=\"main\"]/footer/div[1]/div/span[2]/div/div[2]/div[1]/div/div[1]/p').send_keys(Keys.CONTROL + \"V\")\n",
    "#dar enter\n",
    "nav.find_element('xpath', '//*[@id=\"main\"]/footer/div[1]/div/span[2]/div/div[2]/div[1]/div/div[1]/p').send_keys(Keys.ENTER)\n",
    "time.sleep(2)\n",
    "\n",
    "\n"
   ]
  },
  {
   "cell_type": "code",
   "execution_count": 58,
   "metadata": {},
   "outputs": [
    {
     "name": "stdout",
     "output_type": "stream",
     "text": [
      "[<selenium.webdriver.remote.webelement.WebElement (session=\"9eb201e68e36fda9bb2cd78e1ae521bf\", element=\"f.CACDCE33570E65CD80D6AB512B2BE769.d.52EAAB1715A15232940AF11044954446.e.36128\")>, <selenium.webdriver.remote.webelement.WebElement (session=\"9eb201e68e36fda9bb2cd78e1ae521bf\", element=\"f.CACDCE33570E65CD80D6AB512B2BE769.d.52EAAB1715A15232940AF11044954446.e.36184\")>, <selenium.webdriver.remote.webelement.WebElement (session=\"9eb201e68e36fda9bb2cd78e1ae521bf\", element=\"f.CACDCE33570E65CD80D6AB512B2BE769.d.52EAAB1715A15232940AF11044954446.e.36241\")>, <selenium.webdriver.remote.webelement.WebElement (session=\"9eb201e68e36fda9bb2cd78e1ae521bf\", element=\"f.CACDCE33570E65CD80D6AB512B2BE769.d.52EAAB1715A15232940AF11044954446.e.36281\")>, <selenium.webdriver.remote.webelement.WebElement (session=\"9eb201e68e36fda9bb2cd78e1ae521bf\", element=\"f.CACDCE33570E65CD80D6AB512B2BE769.d.52EAAB1715A15232940AF11044954446.e.36345\")>, <selenium.webdriver.remote.webelement.WebElement (session=\"9eb201e68e36fda9bb2cd78e1ae521bf\", element=\"f.CACDCE33570E65CD80D6AB512B2BE769.d.52EAAB1715A15232940AF11044954446.e.36403\")>, <selenium.webdriver.remote.webelement.WebElement (session=\"9eb201e68e36fda9bb2cd78e1ae521bf\", element=\"f.CACDCE33570E65CD80D6AB512B2BE769.d.52EAAB1715A15232940AF11044954446.e.36446\")>, <selenium.webdriver.remote.webelement.WebElement (session=\"9eb201e68e36fda9bb2cd78e1ae521bf\", element=\"f.CACDCE33570E65CD80D6AB512B2BE769.d.52EAAB1715A15232940AF11044954446.e.36480\")>]\n"
     ]
    },
    {
     "ename": "SystemExit",
     "evalue": "",
     "output_type": "error",
     "traceback": [
      "An exception has occurred, use %tb to see the full traceback.\n",
      "\u001b[1;31mSystemExit\u001b[0m\n"
     ]
    },
    {
     "name": "stderr",
     "output_type": "stream",
     "text": [
      "C:\\Users\\conta\\AppData\\Roaming\\Python\\Python312\\site-packages\\IPython\\core\\interactiveshell.py:3585: UserWarning: To exit: use 'exit', 'quit', or Ctrl-D.\n",
      "  warn(\"To exit: use 'exit', 'quit', or Ctrl-D.\", stacklevel=1)\n"
     ]
    }
   ],
   "source": [
    "# Encaminhar a mensagem para mim mesmo\n",
    "\n",
    "from selenium.webdriver.common.action_chains import ActionChains\n",
    "import time\n",
    "\n",
    "\n",
    "lista_elementos = nav.find_elements('class name', '_2AOIt')\n",
    "\n",
    "\n",
    "for item in lista_elementos: \n",
    "    mensagem = mensagem.replace(\"\\n\", \"\")\n",
    "   \n",
    "    texto = item.text.replace(\"\\n\", \"\")\n",
    "  \n",
    "    if mensagem in texto:\n",
    "        elemento = item\n",
    "        break\n",
    "\n",
    "\n",
    "\n",
    "#ActionChains(nav).move_to_element(elemento).perform()\n",
    "elemento.find_element('class name', '_3u9t-').click()\n",
    "time.sleep\n",
    "nav.find_element('xpath', '//*[@id=\"app\"]/div/span[5]/div/ul/div/li[4]/div').click()\n",
    "nav.find_element('xpath', '//*[@id=\"main\"]/span[2]/div/button[4]/span').click()\n",
    "time.sleep(1)\n",
    "\n",
    "#excrever o nome do contato\n",
    "nav.find_element('xpath', '//*[@id=\"app\"]/div/span[2]/div/div/div/div/div/div/div/div[1]/div/div[2]/div[2]/div/div[1]/p').send_keys(\"Meu Numero\")\n",
    "time.sleep(1)\n",
    "#dar enter\n",
    "nav.find_element('xpath', '//*[@id=\"app\"]/div/span[2]/div/div/div/div/div/div/div/div[1]/div/div[2]/div[2]/div/div[1]/p').send_keys(Keys.ENTER)\n",
    "time.sleep(1)\n",
    "#apagar o nome do contato\n",
    "nav.find_element('xpath', '//*[@id=\"app\"]/div/span[2]/div/div/div/div/div/div/div/div[1]/div/div[2]/div[2]/div/div[1]/p').send_keys(Keys.BACKSPACE)\n",
    "time.sleep(1)"
   ]
  }
 ],
 "metadata": {
  "kernelspec": {
   "display_name": "Python 3",
   "language": "python",
   "name": "python3"
  },
  "language_info": {
   "codemirror_mode": {
    "name": "ipython",
    "version": 3
   },
   "file_extension": ".py",
   "mimetype": "text/x-python",
   "name": "python",
   "nbconvert_exporter": "python",
   "pygments_lexer": "ipython3",
   "version": "3.12.0"
  }
 },
 "nbformat": 4,
 "nbformat_minor": 2
}
